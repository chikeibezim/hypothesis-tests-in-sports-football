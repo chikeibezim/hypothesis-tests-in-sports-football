{
 "cells": [
  {
   "cell_type": "code",
   "execution_count": null,
   "id": "8b731ff7-d6f0-4475-a6e9-c942034f877c",
   "metadata": {},
   "outputs": [],
   "source": []
  },
  {
   "cell_type": "code",
   "execution_count": 1,
   "id": "7bb5b410-8909-4d54-aea7-9ba7fee99fe3",
   "metadata": {},
   "outputs": [],
   "source": [
    "import requests\n",
    "import csv\n",
    "import pandas as pd\n",
    "import numpy as np\n",
    "import matplotlib.pyplot as plt\n",
    "import scipy.stats as st"
   ]
  },
  {
   "cell_type": "code",
   "execution_count": 2,
   "id": "41929b87-81b3-4d0b-9094-ec05aaefa3b6",
   "metadata": {},
   "outputs": [],
   "source": [
    "# api setup\n",
    "\n",
    "api_url = \"https://api.football-data.org/v4/\"\n",
    "date_start = \"2021-08-01\"\n",
    "date_end = \"2023-06-11\"\n",
    "api_key = \"fb44fef1e90a45acb1e60b83adfaec1c\"\n",
    "headers = { 'X-Auth-Token': api_key }\n",
    "team_to_find = \"Arsenal\"\n",
    "league = \"PL\""
   ]
  },
  {
   "cell_type": "code",
   "execution_count": 3,
   "id": "409ee0ee-1b43-4bb3-9153-f4b810f671c9",
   "metadata": {},
   "outputs": [],
   "source": [
    "build_teams_url = \"{}/competitions/{}/teams\".format(api_url, league)\n",
    "teams_request = requests.get(build_teams_url, headers=headers)"
   ]
  },
  {
   "cell_type": "code",
   "execution_count": 4,
   "id": "42159ae2-aee9-4b02-90b3-e51c723bd3ca",
   "metadata": {},
   "outputs": [
    {
     "data": {
      "text/plain": [
       "57"
      ]
     },
     "execution_count": 4,
     "metadata": {},
     "output_type": "execute_result"
    }
   ],
   "source": [
    "teams = teams_request.json()[\"teams\"]\n",
    "\n",
    "# get the team to search for from the list\n",
    "team = [team for team in teams if team['shortName'] == team_to_find][0]\n",
    "\n",
    "team_name = team['name']\n",
    "team_id = team['id']\n",
    "team_id "
   ]
  },
  {
   "cell_type": "code",
   "execution_count": 5,
   "id": "832db62c-7e6f-4db5-8f5d-d0a986636895",
   "metadata": {},
   "outputs": [],
   "source": [
    "# Next, let's make a request for the matches for that team. We'll limit the search within a period of time\n",
    "build_historical_matches_url = \"{}/teams/{}/matches?dateFrom={}&dateTo={}\".format(api_url, team_id, date_start, date_end)\n",
    "matches_request = requests.get(build_historical_matches_url, headers=headers)"
   ]
  },
  {
   "cell_type": "code",
   "execution_count": 10,
   "id": "2c125532-8256-4826-b065-ba8a7fc1f4ab",
   "metadata": {},
   "outputs": [
    {
     "name": "stdout",
     "output_type": "stream",
     "text": [
      "Historical Average Goals Per Game: 2.0\n"
     ]
    }
   ],
   "source": [
    "# Historical_data\n",
    "historical_matches = matches_request.json()\n",
    "\n",
    "historical_matches = [match for match in historical_matches[\"matches\"]]\n",
    "\n",
    "h_away_goals = [match['score']['fullTime']['away'] for match in historical_matches if match['awayTeam']['id'] == team_id ]\n",
    "h_home_goals = [match['score']['fullTime']['home'] for match in historical_matches if match['homeTeam']['id'] == team_id ]\n",
    "\n",
    "# Check for average home goals\n",
    "h_avg_home_goals = np.mean(h_home_goals)\n",
    "h_avg_away_goals = np.mean(h_away_goals)\n",
    "\n",
    "h_avg_goals_per_game = (h_avg_home_goals + h_avg_away_goals) / 2\n",
    "print(\"Historical Average Goals Per Game: \" + str(round(h_avg_goals_per_game, 1)))"
   ]
  },
  {
   "cell_type": "code",
   "execution_count": 16,
   "id": "4da1d7ac-4d7f-47f7-8193-f956e5b5e797",
   "metadata": {},
   "outputs": [
    {
     "name": "stdout",
     "output_type": "stream",
     "text": [
      "Recent Goals Average: 2.1\n"
     ]
    }
   ],
   "source": [
    "# get recent data\n",
    "\n",
    "recent_home_goals = h_home_goals[-30:]\n",
    "recent_away_goals = h_away_goals[-30:]\n",
    "\n",
    "goals_combined = recent_home_goals + recent_away_goals\n",
    "\n",
    "avg_goals_combined = sum(goals_combined)/len(goals_combined)\n",
    "# from the more recent games, let's select random scores for our hypothesis test\n",
    "print(\"Recent Goals Average: \" + str(round(avg_goals_combined, 1)))"
   ]
  },
  {
   "cell_type": "code",
   "execution_count": 19,
   "id": "518e46c5-a6a1-4ec2-b684-bdedeacc9a35",
   "metadata": {},
   "outputs": [
    {
     "name": "stdout",
     "output_type": "stream",
     "text": [
      "Average Goals Last 38 games: 2.3\n"
     ]
    }
   ],
   "source": [
    "# Get data from last season (last 38 games)\n",
    "ls_home_goals = h_home_goals[-19:]\n",
    "ls_away_goals = h_away_goals[-19:]\n",
    "\n",
    "ls_goals_combined = ls_home_goals + ls_away_goals\n",
    "\n",
    "ls_avg_goals_combined = sum(ls_goals_combined)/len(ls_goals_combined)\n",
    "print(\"Average Goals Last 38 games: \" + str(round(sum(ls_goals_combined)/len(ls_goals_combined),1)))"
   ]
  },
  {
   "cell_type": "code",
   "execution_count": 13,
   "id": "70bde644-34c7-43d9-9e1f-1368bb0e8632",
   "metadata": {},
   "outputs": [
    {
     "data": {
      "image/png": "[encoded data removed]",
      "text/plain": [
       "<Figure size 640x480 with 1 Axes>"
      ]
     },
     "metadata": {},
     "output_type": "display_data"
    },
    {
     "data": {
      "text/plain": [
       "<Figure size 640x480 with 0 Axes>"
      ]
     },
     "metadata": {},
     "output_type": "display_data"
    }
   ],
   "source": [
    "# Next, we define our null and alternative hypothesis\n",
    "# Null Hypothesis: The Average goals scored by the team is 2.1 / game\n",
    "# Alternative: The Average goals scored by the team is greater than 1.96\n",
    "# Significance Threshold: 0.05\n",
    "# Confidence Interval: 95%\n",
    "\n",
    "# Let's simulate repeated random samples from our recent data\n",
    "avg_goals_list = []\n",
    "for i in range(500):\n",
    "    goals = np.random.choice(goals_combined, size=38, replace=False)\n",
    "    goals_avg = np.mean(goals)\n",
    "    avg_goals_list.append(goals_avg)\n",
    "\n",
    "plt.hist(avg_goals_list)\n",
    "plt.title(\"Null Distribution of Sample Means for Goals Scored\")\n",
    "plt.xlabel(\"Goals\")\n",
    "plt.ylabel(\"Freq\")\n",
    "plt.show()\n",
    "plt.clf()"
   ]
  },
  {
   "cell_type": "code",
   "execution_count": 14,
   "id": "32c9a100-034e-4803-bb00-3d6c87447a20",
   "metadata": {},
   "outputs": [
    {
     "data": {
      "text/plain": [
       "array([1.86842105, 2.42105263])"
      ]
     },
     "execution_count": 14,
     "metadata": {},
     "output_type": "execute_result"
    }
   ],
   "source": [
    "# Now we can check for the confidence interval\n",
    "# check if the observed average of 2.3 falls within our confidence interval so we can confirm if our null hypothesis is true\n",
    "\n",
    "interval = np.percentile(avg_goals_list, [2.5, 97.5])\n",
    "interval"
   ]
  },
  {
   "cell_type": "code",
   "execution_count": 23,
   "id": "68f21149-2e17-4530-98ab-c938d360f617",
   "metadata": {},
   "outputs": [
    {
     "data": {
      "text/plain": [
       "0.31768421052631585"
      ]
     },
     "execution_count": 23,
     "metadata": {},
     "output_type": "execute_result"
    }
   ],
   "source": [
    "# Hence, we're 95% certain that the team scores between 1.8 and 2.4 goals per game\n",
    "# Let's calculate the P-Value\n",
    "vals = [val for val in avg_goals_list if val > 2.3]\n",
    "p_val = np.sum(vals)/len(avg_goals_list)\n",
    "p_val"
   ]
  },
  {
   "cell_type": "code",
   "execution_count": 22,
   "id": "99253641-5d23-49dc-98b9-3e391b1ab039",
   "metadata": {},
   "outputs": [
    {
     "data": {
      "text/plain": [
       "0.472414850839304"
      ]
     },
     "execution_count": 22,
     "metadata": {},
     "output_type": "execute_result"
    }
   ],
   "source": [
    "# From the above, we can see that the p-value is above our significant threshold of 0.05 hence we accept the null hypothesis\n",
    "# and conclude that their is a 29% chance of the average goals scored per game being 2.1 or above.\n",
    "\n",
    "stat, p_val = st.ttest_1samp(ls_goals_combined, 2.3)\n",
    "p_val/2"
   ]
  },
  {
   "cell_type": "code",
   "execution_count": null,
   "id": "3d8e612c-09e1-462e-9cbf-95a5ad232adf",
   "metadata": {},
   "outputs": [],
   "source": []
  },
  {
   "cell_type": "code",
   "execution_count": null,
   "id": "c722cebe-5e01-43b8-b26c-40ecffeab212",
   "metadata": {},
   "outputs": [],
   "source": []
  }
 ],
 "metadata": {
  "kernelspec": {
   "display_name": "Python 3 (ipykernel)",
   "language": "python",
   "name": "python3"
  },
  "language_info": {
   "codemirror_mode": {
    "name": "ipython",
    "version": 3
   },
   "file_extension": ".py",
   "mimetype": "text/x-python",
   "name": "python",
   "nbconvert_exporter": "python",
   "pygments_lexer": "ipython3",
   "version": "3.8.0"
  }
 },
 "nbformat": 4,
 "nbformat_minor": 5
}
