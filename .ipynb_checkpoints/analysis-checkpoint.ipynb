{
 "cells": [
  {
   "cell_type": "code",
   "execution_count": null,
   "id": "8b731ff7-d6f0-4475-a6e9-c942034f877c",
   "metadata": {},
   "outputs": [],
   "source": [
    "!pip install pandas"
   ]
  },
  {
   "cell_type": "code",
   "execution_count": 33,
   "id": "7bb5b410-8909-4d54-aea7-9ba7fee99fe3",
   "metadata": {},
   "outputs": [],
   "source": [
    "import requests\n",
    "import csv\n",
    "import pandas as pd"
   ]
  },
  {
   "cell_type": "code",
   "execution_count": 6,
   "id": "41929b87-81b3-4d0b-9094-ec05aaefa3b6",
   "metadata": {},
   "outputs": [],
   "source": [
    "# api setup\n",
    "\n",
    "api_url = \"https://apiv3.apifootball.com/\"\n",
    "date_start = \"2023-01-01\"\n",
    "date_end = \"2023-05-01\"\n",
    "league_id = 151\n",
    "api_key = \"bbfd73f0846c2621034bda02facc5645952d88c63af03a98b9259439a97ff07a\""
   ]
  },
  {
   "cell_type": "code",
   "execution_count": 17,
   "id": "832db62c-7e6f-4db5-8f5d-d0a986636895",
   "metadata": {},
   "outputs": [],
   "source": [
    "# build url\n",
    "get_countries = \"https://apiv3.apifootball.com/?action=get_countries&APIkey=\" + api_key\n",
    "build_events_url = \"{}?action=get_events&from={}&to={}&league_id={}&APIkey={}\".format(api_url, date_start, date_end, league_id, api_key)"
   ]
  },
  {
   "cell_type": "code",
   "execution_count": 51,
   "id": "9a9cfcd8-ff1e-4310-b75a-db6118cd6ec1",
   "metadata": {},
   "outputs": [],
   "source": [
    "# fetch countries\n",
    "countries = requests.get(get_countries)\n",
    "countries_json = countries.json()\n",
    "\n",
    "# export counties to csv\n",
    "with open(\"countries2.csv\", mode=\"w\", newline=\"\") as file:\n",
    "    writer = csv.DictWriter(file, fieldnames=list(countries_json[0].keys()))\n",
    "    writer.writeheader()\n",
    "    for item in countries_json:\n",
    "        writer.writerow(item)"
   ]
  },
  {
   "cell_type": "code",
   "execution_count": 53,
   "id": "1b55fb15-f7e1-4634-ac3e-295b91044531",
   "metadata": {},
   "outputs": [],
   "source": [
    "countries_df = pd.read_csv(\"countries2.csv\")"
   ]
  },
  {
   "cell_type": "code",
   "execution_count": null,
   "id": "518e46c5-a6a1-4ec2-b684-bdedeacc9a35",
   "metadata": {},
   "outputs": [],
   "source": []
  }
 ],
 "metadata": {
  "kernelspec": {
   "display_name": "Python 3 (ipykernel)",
   "language": "python",
   "name": "python3"
  },
  "language_info": {
   "codemirror_mode": {
    "name": "ipython",
    "version": 3
   },
   "file_extension": ".py",
   "mimetype": "text/x-python",
   "name": "python",
   "nbconvert_exporter": "python",
   "pygments_lexer": "ipython3",
   "version": "3.8.0"
  }
 },
 "nbformat": 4,
 "nbformat_minor": 5
}
